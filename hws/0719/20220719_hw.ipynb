{
 "cells": [
  {
   "cell_type": "markdown",
   "id": "5fc7027d",
   "metadata": {},
   "source": [
    "# 20220719 HWs 정무남\n"
   ]
  },
  {
   "cell_type": "markdown",
   "id": "c3cbe37c",
   "metadata": {},
   "source": []
  },
  {
   "cell_type": "markdown",
   "id": "48a21323",
   "metadata": {},
   "source": [
    "### 1. Mutable & Immutable"
   ]
  },
  {
   "cell_type": "markdown",
   "id": "2b19f9ea",
   "metadata": {},
   "source": [
    "Mutable : List, Set, Dictionary\n",
    "Immutable : Tuple, String, Range"
   ]
  },
  {
   "cell_type": "markdown",
   "id": "d744993d",
   "metadata": {},
   "source": [
    "### 2. Dictionary 만들기"
   ]
  },
  {
   "cell_type": "code",
   "execution_count": 1,
   "id": "e7d9e772",
   "metadata": {},
   "outputs": [
    {
     "name": "stdout",
     "output_type": "stream",
     "text": [
      "{'앞앞앞': 25, '뒤뒤뒤': 26, '좌좌좌': 27, '우우우': 28}\n"
     ]
    }
   ],
   "source": [
    "dict_a = {'앞앞앞': 25, '뒤뒤뒤' : 26, '좌좌좌' : 27, '우우우' : 28}\n",
    "print(dict_a)"
   ]
  },
  {
   "cell_type": "markdown",
   "id": "0e3e0903",
   "metadata": {},
   "source": [
    "### 3. 평균 구하기"
   ]
  },
  {
   "cell_type": "code",
   "execution_count": 9,
   "id": "37c505e4",
   "metadata": {},
   "outputs": [
    {
     "name": "stdout",
     "output_type": "stream",
     "text": [
      "87.75\n"
     ]
    }
   ],
   "source": [
    "scores = [ 80, 89, 99, 83]\n",
    "a = len(scores)\n",
    "b = sum(scores)\n",
    "print(b/a)\n"
   ]
  },
  {
   "cell_type": "markdown",
   "id": "84d096eb",
   "metadata": {},
   "source": []
  },
  {
   "cell_type": "code",
   "execution_count": null,
   "id": "a3f39a38",
   "metadata": {},
   "outputs": [],
   "source": []
  },
  {
   "cell_type": "code",
   "execution_count": null,
   "id": "0fc84273",
   "metadata": {},
   "outputs": [],
   "source": []
  }
 ],
 "metadata": {
  "kernelspec": {
   "display_name": "Python 3 (ipykernel)",
   "language": "python",
   "name": "python3"
  },
  "language_info": {
   "codemirror_mode": {
    "name": "ipython",
    "version": 3
   },
   "file_extension": ".py",
   "mimetype": "text/x-python",
   "name": "python",
   "nbconvert_exporter": "python",
   "pygments_lexer": "ipython3",
   "version": "3.10.5"
  },
  "vscode": {
   "interpreter": {
    "hash": "369f2c481f4da34e4445cda3fffd2e751bd1c4d706f27375911949ba6bb62e1c"
   }
  }
 },
 "nbformat": 4,
 "nbformat_minor": 5
}
