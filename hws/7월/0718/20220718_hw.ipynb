{
 "cells": [
  {
   "cell_type": "markdown",
   "id": "5fc7027d",
   "metadata": {},
   "source": [
    "# 20220718 HWs 정무남\n"
   ]
  },
  {
   "cell_type": "markdown",
   "id": "c53e1be2",
   "metadata": {},
   "source": [
    "## 01"
   ]
  },
  {
   "cell_type": "markdown",
   "id": "e9e25d13",
   "metadata": {},
   "source": [
    "### 1. 파이썬 예약어\n",
    "['False', 'None', 'True', 'and', 'as', 'assert', 'async', 'await', 'break', 'class', 'continue', 'def', 'del', 'elif', 'else', 'except', 'finally', 'for', 'from', 'global', 'if', 'import', 'in', 'is', 'lambda', 'nonlocal', 'not', 'or', 'pass', 'raise', 'return', 'try', 'while', 'with', 'yield']\n"
   ]
  },
  {
   "cell_type": "markdown",
   "id": "84207dcb",
   "metadata": {},
   "source": [
    "### 2. 실수 비교"
   ]
  },
  {
   "cell_type": "code",
   "execution_count": 3,
   "id": "c6a5e30b",
   "metadata": {},
   "outputs": [
    {
     "data": {
      "text/plain": [
       "True"
      ]
     },
     "execution_count": 3,
     "metadata": {},
     "output_type": "execute_result"
    }
   ],
   "source": [
    "num1 = 0.1*3\n",
    "num2 = 0.3\n",
    "import math\n",
    "math. isclose(num1, num2)\n"
   ]
  },
  {
   "cell_type": "markdown",
   "id": "14c1093d",
   "metadata": {},
   "source": [
    "### 3. 이스케이프 시퀀스"
   ]
  },
  {
   "cell_type": "markdown",
   "id": "e673e6ac",
   "metadata": {},
   "source": [
    "(1) 줄바꿈 => \\n\n",
    "(2) 탭 => \\t\n",
    "(3) 백슬래시 => \\\\  \n"
   ]
  },
  {
   "cell_type": "markdown",
   "id": "36bae359",
   "metadata": {},
   "source": [
    "### 4. String Interpolation"
   ]
  },
  {
   "cell_type": "code",
   "execution_count": 4,
   "id": "c13cf29d",
   "metadata": {},
   "outputs": [
    {
     "name": "stdout",
     "output_type": "stream",
     "text": [
      "안녕,철수야\n"
     ]
    }
   ],
   "source": [
    "name = '철수'\n",
    "print(f\"안녕,{name}야\")"
   ]
  },
  {
   "cell_type": "markdown",
   "id": "a55fa437",
   "metadata": {},
   "source": [
    "### 5. 형 변환"
   ]
  },
  {
   "cell_type": "markdown",
   "id": "91657ac2",
   "metadata": {},
   "source": [
    "\n",
    "int('3.5')  3.5가 정수가 아니라서.."
   ]
  },
  {
   "cell_type": "markdown",
   "id": "a43b8a9c",
   "metadata": {},
   "source": [
    "### 6. 네모 출력"
   ]
  },
  {
   "cell_type": "code",
   "execution_count": 33,
   "id": "600014a6",
   "metadata": {},
   "outputs": [
    {
     "name": "stdout",
     "output_type": "stream",
     "text": [
      "*****\n",
      "*****\n",
      "*****\n",
      "*****\n",
      "*****\n",
      "*****\n",
      "*****\n",
      "*****\n",
      "*****\n",
      "\n"
     ]
    }
   ],
   "source": [
    "n = 5\n",
    "m = 9 \n",
    "star = ('*'*n)\n",
    "enter = ('\\n')\n",
    "sum = (star + enter)*m\n",
    "print(sum)"
   ]
  },
  {
   "cell_type": "markdown",
   "id": "c3114ab9",
   "metadata": {},
   "source": [
    "### 7. 이스케이프 시퀀스 응용"
   ]
  },
  {
   "cell_type": "code",
   "execution_count": 28,
   "id": "814fc3ad",
   "metadata": {},
   "outputs": [
    {
     "name": "stdout",
     "output_type": "stream",
     "text": [
      " \"파일은 c:\\Windows\\Users\\내문서\\Python에 저장이 되었습니다.\"\n",
      "나는 생각했다.'cd를 써서 git bash로 들어가 봐야지.' \n"
     ]
    }
   ],
   "source": [
    "print(''' \"파일은 c:\\\\Windows\\\\Users\\\\내문서\\\\Python에 저장이 되었습니다.\"\n",
    "나는 생각했다.'cd를 써서 git bash로 들어가 봐야지.' ''' )"
   ]
  },
  {
   "cell_type": "markdown",
   "id": "4649b158",
   "metadata": {},
   "source": [
    "### 8. 근의공식"
   ]
  },
  {
   "cell_type": "code",
   "execution_count": 38,
   "id": "ebdcb1b1",
   "metadata": {},
   "outputs": [
    {
     "name": "stdout",
     "output_type": "stream",
     "text": [
      "5.0 -2.0\n"
     ]
    }
   ],
   "source": [
    "# input 함수를 몰라서 a,b,c 값 그냥 설정하고 해보겠습니다.\n",
    "a = 1\n",
    "b = -3\n",
    "c = -10\n",
    "geun1 = (-b +((b**2)-4*a*c)**0.5)/(2*a)\n",
    "geun2 = (-b -((b**2)-4*a*c)**0.5)/(2*a)\n",
    "print(geun1, geun2)"
   ]
  },
  {
   "cell_type": "markdown",
   "id": "c3cbe37c",
   "metadata": {},
   "source": [
    "## 02"
   ]
  },
  {
   "cell_type": "markdown",
   "id": "48a21323",
   "metadata": {},
   "source": [
    "### 1. Mutable & Immutable"
   ]
  },
  {
   "cell_type": "markdown",
   "id": "2b19f9ea",
   "metadata": {},
   "source": [
    "Mutable : List, Range, Set, Dictionary\n",
    "Immutable : Tuple, String, "
   ]
  },
  {
   "cell_type": "markdown",
   "id": "d744993d",
   "metadata": {},
   "source": [
    "### 2. Dictionary 만들기"
   ]
  },
  {
   "cell_type": "code",
   "execution_count": 1,
   "id": "e7d9e772",
   "metadata": {},
   "outputs": [
    {
     "name": "stdout",
     "output_type": "stream",
     "text": [
      "{'앞앞앞': 25, '뒤뒤뒤': 26, '좌좌좌': 27, '우우우': 28}\n"
     ]
    }
   ],
   "source": [
    "dict_a = {'앞앞앞': 25, '뒤뒤뒤' : 26, '좌좌좌' : 27, '우우우' : 28}\n",
    "print(dict_a)"
   ]
  },
  {
   "cell_type": "markdown",
   "id": "0e3e0903",
   "metadata": {},
   "source": [
    "### 3. 평균 구하기"
   ]
  },
  {
   "cell_type": "code",
   "execution_count": 9,
   "id": "37c505e4",
   "metadata": {},
   "outputs": [
    {
     "name": "stdout",
     "output_type": "stream",
     "text": [
      "87.75\n"
     ]
    }
   ],
   "source": [
    "scores = [ 80, 89, 99, 83]\n",
    "a = len(scores)\n",
    "b = sum(scores)\n",
    "print(b/a)\n"
   ]
  },
  {
   "cell_type": "markdown",
   "id": "84d096eb",
   "metadata": {},
   "source": []
  },
  {
   "cell_type": "code",
   "execution_count": null,
   "id": "a3f39a38",
   "metadata": {},
   "outputs": [],
   "source": []
  },
  {
   "cell_type": "code",
   "execution_count": null,
   "id": "0fc84273",
   "metadata": {},
   "outputs": [],
   "source": []
  }
 ],
 "metadata": {
  "kernelspec": {
   "display_name": "Python 3 (ipykernel)",
   "language": "python",
   "name": "python3"
  },
  "language_info": {
   "codemirror_mode": {
    "name": "ipython",
    "version": 3
   },
   "file_extension": ".py",
   "mimetype": "text/x-python",
   "name": "python",
   "nbconvert_exporter": "python",
   "pygments_lexer": "ipython3",
   "version": "3.10.5"
  },
  "vscode": {
   "interpreter": {
    "hash": "369f2c481f4da34e4445cda3fffd2e751bd1c4d706f27375911949ba6bb62e1c"
   }
  }
 },
 "nbformat": 4,
 "nbformat_minor": 5
}
