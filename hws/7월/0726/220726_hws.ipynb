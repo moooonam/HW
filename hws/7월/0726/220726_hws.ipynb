{
 "cells": [
  {
   "cell_type": "markdown",
   "metadata": {},
   "source": [
    "# 0726(화) Hws"
   ]
  },
  {
   "cell_type": "markdown",
   "metadata": {
    "vscode": {
     "languageId": "python"
    }
   },
   "source": [
    "### 1.sort 함수는 리스트명.sort( ) 형식으로 \"리스트형의 메소드\"​​이며 리스트 원본값을 직접 수정합니다.\n",
    "\n",
    "### sorted 함수는 sorted( 리스트명 ) 형식으로 \"내장 함수\"이며 리스트 원본 값은 그대로이고 정렬 값을 반환합니다."
   ]
  },
  {
   "cell_type": "code",
   "execution_count": 2,
   "metadata": {},
   "outputs": [
    {
     "name": "stdout",
     "output_type": "stream",
     "text": [
      "sort\n",
      "[2, 5, 7]\n",
      "None\n",
      "================\n",
      "sorted\n",
      "[5, 7, 2]\n",
      "[2, 5, 7]\n"
     ]
    }
   ],
   "source": [
    "print('sort')\n",
    "a = [5, 7, 2]\n",
    "b = a.sort()\n",
    "\n",
    "print(a)\n",
    "print(b)\n",
    "print('================')\n",
    "print('sorted')\n",
    "a = [5, 7, 2]\n",
    "b = sorted(a)\n",
    "print(a)\n",
    "print(b)\n"
   ]
  },
  {
   "cell_type": "markdown",
   "metadata": {
    "vscode": {
     "languageId": "python"
    }
   },
   "source": [
    "### 2. .extend() VS .append()\n",
    "list.append(x)는 리스트 끝에 x 1개를 **그대로** 넣는다.\n",
    "\n",
    "list.extend(iterable)는 리스트 끝에 가장 바깥쪽 iterable의 모든 항목을 넣는다"
   ]
  },
  {
   "cell_type": "code",
   "execution_count": 3,
   "metadata": {},
   "outputs": [
    {
     "name": "stdout",
     "output_type": "stream",
     "text": [
      "['a', 'b', 'c', 'd', [1, 2]]\n"
     ]
    }
   ],
   "source": [
    "x =['a', 'b', 'c', 'd']\n",
    "y =[1, 2]\n",
    "x.append(y)\n",
    "print(x) "
   ]
  },
  {
   "cell_type": "code",
   "execution_count": 4,
   "metadata": {},
   "outputs": [
    {
     "name": "stdout",
     "output_type": "stream",
     "text": [
      "['a', 'b', 'c', 'd', 1, 2]\n"
     ]
    }
   ],
   "source": [
    "x =['a', 'b', 'c', 'd']\n",
    "y =[1, 2]\n",
    "x.extend(y)\n",
    "print(x) "
   ]
  },
  {
   "cell_type": "markdown",
   "metadata": {},
   "source": [
    "### 3. 복사가 잘 된 건가?"
   ]
  },
  {
   "cell_type": "code",
   "execution_count": 5,
   "metadata": {},
   "outputs": [
    {
     "name": "stdout",
     "output_type": "stream",
     "text": [
      "[1, 2, 5, 4, 5]\n",
      "[1, 2, 5, 4, 5]\n"
     ]
    }
   ],
   "source": [
    "a = [1, 2, 3, 4, 5]\n",
    "b = a\n",
    "\n",
    "a[2] = 5\n",
    "print(a)\n",
    "print(b)\n",
    "\n",
    "# 파이썬 튜터로 확인해본 결과 같은 리스트의 요소인것 같다."
   ]
  }
 ],
 "metadata": {
  "kernelspec": {
   "display_name": "Python 3.10.5 64-bit",
   "language": "python",
   "name": "python3"
  },
  "language_info": {
   "codemirror_mode": {
    "name": "ipython",
    "version": 3
   },
   "file_extension": ".py",
   "mimetype": "text/x-python",
   "name": "python",
   "nbconvert_exporter": "python",
   "pygments_lexer": "ipython3",
   "version": "3.10.5"
  },
  "orig_nbformat": 4,
  "vscode": {
   "interpreter": {
    "hash": "369f2c481f4da34e4445cda3fffd2e751bd1c4d706f27375911949ba6bb62e1c"
   }
  }
 },
 "nbformat": 4,
 "nbformat_minor": 2
}
