{
 "cells": [
  {
   "cell_type": "markdown",
   "metadata": {},
   "source": [
    "# 0727(수) Hws"
   ]
  },
  {
   "cell_type": "markdown",
   "metadata": {},
   "source": [
    "## 1. Type Class\n",
    "\n",
    "dict, bool, int, set, slice, str\n",
    "\n",
    "## 2. Magic Method\n",
    "\n",
    "- __ init __ : 생성자라고 부른다 데이터를 초기화 하는등의 목적으로 사용\n",
    "- __ del __ : 객체가 소멸될 때 호출\n",
    "- __ str __ : 객체의 문자열 표현을 위해 사용    \n",
    "  - (서로 다른 타입을 가진 데이터 끼리 상호작용 할 때 문자열로 변환시김으로서 상호간 호환이 가능하도록 만들어줌)\n",
    "  - 사용자에 좀 더 초점이 맞춰져 있음\n",
    "- __ repr __ : 객체의 문자열 표현을 위해 사용\n",
    "  - 말그대로 객체를 문자열로 표현 하기 위해 존재\n",
    "  - 개발자에 초점에 맞춰져 있음\n",
    "\n",
    "## 3.Instance Method\n",
    "\n",
    "- list 메소드\n",
    "  - .append() : 리스트 값에 요소 추가\n",
    "  - .pop() : list의 tail 삭제 및 반환\n",
    "- 문자열 메소드\n",
    "  - .split() : 공백 문자를 기준으로 문자열 분리하여 list 저장\n",
    "  - .count('a') : 문자열에 a가 몇번나오는지  \n",
    "  등등등...\n",
    "\n",
    "## 4. 오류의 종류\n",
    "\n",
    "- ZeroDivisionError: 0으로 나누고자 할 때 발생\n",
    "- NameError: namespace상에 이름이 없는경우\n",
    "- TypeError: 타입 불일치\n",
    "- IndexError: 인덱스가 존재하지 않거나 범위를 벗어나는 경우\n",
    "- KeyError: 해당키가 존재하지 않는경우\n",
    "- ModuleNotFoundError: 해당 모듈이 존재하지 않는경우\n",
    "- ImportError: Module은 있으나 존재하지않는 클래스/함수를 가져오는 경우"
   ]
  }
 ],
 "metadata": {
  "kernelspec": {
   "display_name": "Python 3.10.5 64-bit",
   "language": "python",
   "name": "python3"
  },
  "language_info": {
   "name": "python",
   "version": "3.10.5"
  },
  "orig_nbformat": 4,
  "vscode": {
   "interpreter": {
    "hash": "369f2c481f4da34e4445cda3fffd2e751bd1c4d706f27375911949ba6bb62e1c"
   }
  }
 },
 "nbformat": 4,
 "nbformat_minor": 2
}
