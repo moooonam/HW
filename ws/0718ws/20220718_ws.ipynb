{
 "cells": [
  {
   "cell_type": "markdown",
   "id": "f1d77644",
   "metadata": {},
   "source": [
    "# 0718 WS 정무남"
   ]
  },
  {
   "cell_type": "markdown",
   "id": "14b1603c",
   "metadata": {},
   "source": [
    "## 1. 문자 print"
   ]
  },
  {
   "cell_type": "code",
   "execution_count": 2,
   "id": "83cb0aab",
   "metadata": {},
   "outputs": [
    {
     "name": "stdout",
     "output_type": "stream",
     "text": [
      "It's SSAFY8\n"
     ]
    }
   ],
   "source": [
    "print(\"It's SSAFY8\")"
   ]
  },
  {
   "cell_type": "markdown",
   "id": "2c8760cf",
   "metadata": {},
   "source": [
    "## 2. 숫자 print"
   ]
  },
  {
   "cell_type": "code",
   "execution_count": 1,
   "id": "a32e85b5",
   "metadata": {},
   "outputs": [
    {
     "name": "stdout",
     "output_type": "stream",
     "text": [
      "1081921\n"
     ]
    }
   ],
   "source": [
    "a = 458345\n",
    "b = 623576\n",
    "print(a+b)"
   ]
  },
  {
   "cell_type": "markdown",
   "id": "3819e4c4",
   "metadata": {},
   "source": [
    "## 3. 변수를 사용해서 데이터 출력하기"
   ]
  },
  {
   "cell_type": "code",
   "execution_count": 9,
   "id": "d0611ac4",
   "metadata": {},
   "outputs": [
    {
     "name": "stdout",
     "output_type": "stream",
     "text": [
      "Hello July\n"
     ]
    }
   ],
   "source": [
    "greeting = 'Hello'\n",
    "month = 'July'\n",
    "print(greeting+' '+month)"
   ]
  },
  {
   "cell_type": "markdown",
   "id": "504baee8",
   "metadata": {},
   "source": [
    "## 4. 문자형의 입력과 출력"
   ]
  },
  {
   "cell_type": "code",
   "execution_count": null,
   "id": "415c61fe",
   "metadata": {},
   "outputs": [],
   "source": [
    "hello = input()"
   ]
  }
 ],
 "metadata": {
  "kernelspec": {
   "display_name": "Python 3 (ipykernel)",
   "language": "python",
   "name": "python3"
  },
  "language_info": {
   "codemirror_mode": {
    "name": "ipython",
    "version": 3
   },
   "file_extension": ".py",
   "mimetype": "text/x-python",
   "name": "python",
   "nbconvert_exporter": "python",
   "pygments_lexer": "ipython3",
   "version": "3.10.5"
  }
 },
 "nbformat": 4,
 "nbformat_minor": 5
}
