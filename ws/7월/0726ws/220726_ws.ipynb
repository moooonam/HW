{
 "cells": [
  {
   "cell_type": "markdown",
   "metadata": {},
   "source": [
    "# 0726(화)Ws"
   ]
  },
  {
   "cell_type": "markdown",
   "metadata": {},
   "source": [
    "### 1. 무엇이 중복일까"
   ]
  },
  {
   "cell_type": "code",
   "execution_count": 5,
   "metadata": {},
   "outputs": [
    {
     "name": "stdout",
     "output_type": "stream",
     "text": [
      "['p']\n",
      "['a', 'n']\n"
     ]
    }
   ],
   "source": [
    "def duplicated_letters(words):\n",
    "    my_list=[]\n",
    "    for i in words:\n",
    "        if words.count(i) > 1:\n",
    "            my_list.append(i)\n",
    "    list1 = set(my_list)\n",
    "    list2 = list(list1)        \n",
    "    return list2\n",
    "print(duplicated_letters('apple'))            \n",
    "print(duplicated_letters('banana'))           \n"
   ]
  },
  {
   "cell_type": "markdown",
   "metadata": {
    "vscode": {
     "languageId": "python"
    }
   },
   "source": [
    "### 2. 소대소대"
   ]
  },
  {
   "cell_type": "code",
   "execution_count": 7,
   "metadata": {},
   "outputs": [
    {
     "name": "stdout",
     "output_type": "stream",
     "text": [
      "aPpLe\n"
     ]
    }
   ],
   "source": [
    "def low_and_up(words):\n",
    "    my_list=[]\n",
    "    for i in range(len(words)):\n",
    "        if i % 2 == 0:\n",
    "            my_list.append(words[i].lower())\n",
    "        else:\n",
    "            my_list.append(words[i].upper())\n",
    "    return \"\".join(my_list)\n",
    "\n",
    "print(low_and_up('apple'))\n",
    "print(low_and_up('bAnAnA'))"
   ]
  },
  {
   "cell_type": "markdown",
   "metadata": {},
   "source": [
    "### 3. 솔로 천국 만들기\n"
   ]
  },
  {
   "cell_type": "code",
   "execution_count": 11,
   "metadata": {},
   "outputs": [
    {
     "name": "stdout",
     "output_type": "stream",
     "text": [
      "[1, 3, 0, 1]\n",
      "[4, 3]\n"
     ]
    }
   ],
   "source": [
    "def lonely(list):\n",
    "    my_list = []\n",
    "    my_list.append(list[0])\n",
    "    for i in list:\n",
    "        if i == my_list[-1]: # my_list의 끝값이 같으면 컨티뉴 아니면 추가\n",
    "            continue\n",
    "        else:\n",
    "            my_list.append(i)\n",
    "    return my_list\n",
    "\n",
    "print(lonely([1, 1, 3, 3, 0, 1, 1]))\n",
    "print(lonely([4, 4, 4, 3, 3]))\n",
    "\n"
   ]
  },
  {
   "cell_type": "code",
   "execution_count": null,
   "metadata": {},
   "outputs": [],
   "source": []
  },
  {
   "cell_type": "code",
   "execution_count": null,
   "metadata": {},
   "outputs": [],
   "source": []
  }
 ],
 "metadata": {
  "kernelspec": {
   "display_name": "Python 3.10.5 64-bit",
   "language": "python",
   "name": "python3"
  },
  "language_info": {
   "codemirror_mode": {
    "name": "ipython",
    "version": 3
   },
   "file_extension": ".py",
   "mimetype": "text/x-python",
   "name": "python",
   "nbconvert_exporter": "python",
   "pygments_lexer": "ipython3",
   "version": "3.10.5"
  },
  "orig_nbformat": 4,
  "vscode": {
   "interpreter": {
    "hash": "369f2c481f4da34e4445cda3fffd2e751bd1c4d706f27375911949ba6bb62e1c"
   }
  }
 },
 "nbformat": 4,
 "nbformat_minor": 2
}
